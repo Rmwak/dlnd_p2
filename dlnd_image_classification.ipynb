{
 "cells": [
  {
   "cell_type": "markdown",
   "metadata": {
    "collapsed": true,
    "deletable": true,
    "editable": true
   },
   "source": [
    "# Image Classification\n",
    "In this project, you'll classify images from the [CIFAR-10 dataset](https://www.cs.toronto.edu/~kriz/cifar.html).  The dataset consists of airplanes, dogs, cats, and other objects. You'll preprocess the images, then train a convolutional neural network on all the samples. The images need to be normalized and the labels need to be one-hot encoded.  You'll get to apply what you learned and build a convolutional, max pooling, dropout, and fully connected layers.  At the end, you'll get to see your neural network's predictions on the sample images.\n",
    "## Get the Data\n",
    "Run the following cell to download the [CIFAR-10 dataset for python](https://www.cs.toronto.edu/~kriz/cifar-10-python.tar.gz)."
   ]
  },
  {
   "cell_type": "code",
   "execution_count": 1,
   "metadata": {
    "collapsed": false,
    "deletable": true,
    "editable": true
   },
   "outputs": [
    {
     "name": "stdout",
     "output_type": "stream",
     "text": [
      "All files found!\n"
     ]
    }
   ],
   "source": [
    "\"\"\"\n",
    "DON'T MODIFY ANYTHING IN THIS CELL THAT IS BELOW THIS LINE\n",
    "\"\"\"\n",
    "from urllib.request import urlretrieve\n",
    "from os.path import isfile, isdir\n",
    "from tqdm import tqdm\n",
    "import problem_unittests as tests\n",
    "import tarfile\n",
    "\n",
    "cifar10_dataset_folder_path = 'cifar-10-batches-py'\n",
    "\n",
    "# Use Floyd's cifar-10 dataset if present\n",
    "floyd_cifar10_location = '/input/cifar-10/python.tar.gz'\n",
    "if isfile(floyd_cifar10_location):\n",
    "    tar_gz_path = floyd_cifar10_location\n",
    "else:\n",
    "    tar_gz_path = 'cifar-10-python.tar.gz'\n",
    "\n",
    "class DLProgress(tqdm):\n",
    "    last_block = 0\n",
    "\n",
    "    def hook(self, block_num=1, block_size=1, total_size=None):\n",
    "        self.total = total_size\n",
    "        self.update((block_num - self.last_block) * block_size)\n",
    "        self.last_block = block_num\n",
    "\n",
    "if not isfile(tar_gz_path):\n",
    "    with DLProgress(unit='B', unit_scale=True, miniters=1, desc='CIFAR-10 Dataset') as pbar:\n",
    "        urlretrieve(\n",
    "            'https://www.cs.toronto.edu/~kriz/cifar-10-python.tar.gz',\n",
    "            tar_gz_path,\n",
    "            pbar.hook)\n",
    "\n",
    "if not isdir(cifar10_dataset_folder_path):\n",
    "    with tarfile.open(tar_gz_path) as tar:\n",
    "        tar.extractall()\n",
    "        tar.close()\n",
    "\n",
    "\n",
    "tests.test_folder_path(cifar10_dataset_folder_path)"
   ]
  },
  {
   "cell_type": "markdown",
   "metadata": {
    "deletable": true,
    "editable": true
   },
   "source": [
    "## Explore the Data\n",
    "The dataset is broken into batches to prevent your machine from running out of memory.  The CIFAR-10 dataset consists of 5 batches, named `data_batch_1`, `data_batch_2`, etc.. Each batch contains the labels and images that are one of the following:\n",
    "* airplane\n",
    "* automobile\n",
    "* bird\n",
    "* cat\n",
    "* deer\n",
    "* dog\n",
    "* frog\n",
    "* horse\n",
    "* ship\n",
    "* truck\n",
    "\n",
    "Understanding a dataset is part of making predictions on the data.  Play around with the code cell below by changing the `batch_id` and `sample_id`. The `batch_id` is the id for a batch (1-5). The `sample_id` is the id for a image and label pair in the batch.\n",
    "\n",
    "Ask yourself \"What are all possible labels?\", \"What is the range of values for the image data?\", \"Are the labels in order or random?\".  Answers to questions like these will help you preprocess the data and end up with better predictions."
   ]
  },
  {
   "cell_type": "code",
   "execution_count": 2,
   "metadata": {
    "collapsed": false,
    "deletable": true,
    "editable": true
   },
   "outputs": [
    {
     "name": "stdout",
     "output_type": "stream",
     "text": [
      "\n",
      "Stats of batch 1:\n",
      "Samples: 10000\n",
      "Label Counts: {0: 1005, 1: 974, 2: 1032, 3: 1016, 4: 999, 5: 937, 6: 1030, 7: 1001, 8: 1025, 9: 981}\n",
      "First 20 Labels: [6, 9, 9, 4, 1, 1, 2, 7, 8, 3, 4, 7, 7, 2, 9, 9, 9, 3, 2, 6]\n",
      "\n",
      "Example of Image 5:\n",
      "Image - Min Value: 0 Max Value: 252\n",
      "Image - Shape: (32, 32, 3)\n",
      "Label - Label Id: 1 Name: automobile\n"
     ]
    },
    {
     "data": {
      "image/png": "[encoded data removed]",
      "text/plain": [
       "<matplotlib.figure.Figure at 0x7fdaf97339b0>"
      ]
     },
     "metadata": {
      "image/png": {
       "height": 250,
       "width": 253
      }
     },
     "output_type": "display_data"
    }
   ],
   "source": [
    "%matplotlib inline\n",
    "%config InlineBackend.figure_format = 'retina'\n",
    "\n",
    "import helper\n",
    "import numpy as np\n",
    "\n",
    "# Explore the dataset\n",
    "batch_id = 1\n",
    "sample_id = 5\n",
    "helper.display_stats(cifar10_dataset_folder_path, batch_id, sample_id)"
   ]
  },
  {
   "cell_type": "markdown",
   "metadata": {
    "deletable": true,
    "editable": true
   },
   "source": [
    "## Implement Preprocess Functions\n",
    "### Normalize\n",
    "In the cell below, implement the `normalize` function to take in image data, `x`, and return it as a normalized Numpy array. The values should be in the range of 0 to 1, inclusive.  The return object should be the same shape as `x`."
   ]
  },
  {
   "cell_type": "code",
   "execution_count": 3,
   "metadata": {
    "collapsed": false,
    "deletable": true,
    "editable": true
   },
   "outputs": [
    {
     "name": "stdout",
     "output_type": "stream",
     "text": [
      "Tests Passed\n"
     ]
    }
   ],
   "source": [
    "def normalize(x):\n",
    "    \"\"\"\n",
    "    Normalize a list of sample image data in the range of 0 to 1\n",
    "    : x: List of image data.  The image shape is (32, 32, 3)\n",
    "    : return: Numpy array of normalize data\n",
    "    \"\"\"\n",
    "    # Norm: zi = (xi - min(x)) / max(x) - min(x)\n",
    "    x_min = x.min(axis= (0,1), keepdims= True)\n",
    "    x_max = x.max(axis= (0,1), keepdims= True)\n",
    "    x = (x - x_min) / (x_max - x_min)\n",
    "\n",
    "    return x\n",
    "\n",
    "\n",
    "\n",
    "\"\"\"\n",
    "DON'T MODIFY ANYTHING IN THIS CELL THAT IS BELOW THIS LINE\n",
    "\"\"\"\n",
    "tests.test_normalize(normalize)"
   ]
  },
  {
   "cell_type": "markdown",
   "metadata": {
    "deletable": true,
    "editable": true
   },
   "source": [
    "### One-hot encode\n",
    "Just like the previous code cell, you'll be implementing a function for preprocessing.  This time, you'll implement the `one_hot_encode` function. The input, `x`, are a list of labels.  Implement the function to return the list of labels as One-Hot encoded Numpy array.  The possible values for labels are 0 to 9. The one-hot encoding function should return the same encoding for each value between each call to `one_hot_encode`.  Make sure to save the map of encodings outside the function.\n",
    "\n",
    "Hint: Don't reinvent the wheel."
   ]
  },
  {
   "cell_type": "code",
   "execution_count": 4,
   "metadata": {
    "collapsed": false,
    "deletable": true,
    "editable": true
   },
   "outputs": [
    {
     "name": "stdout",
     "output_type": "stream",
     "text": [
      "Tests Passed\n"
     ]
    }
   ],
   "source": [
    "def one_hot_encode(x):\n",
    "    \"\"\"\n",
    "    One hot encode a list of sample labels. Return a one-hot encoded vector for each label.\n",
    "    : x: List of sample Labels\n",
    "    : return: Numpy array of one-hot encoded labels\n",
    "    \"\"\"\n",
    "    # TODO: Implement Function\n",
    "    # I will assume I can't use http://scikit-learn.org/stable/modules/generated/sklearn.preprocessing.LabelBinarizer.html\n",
    "    # As I usually do\n",
    "    one_hot = np.zeros((len(x),max(x)+1))\n",
    "    one_hot[np.arange(len(x)),x] = 1\n",
    "    \n",
    "    return one_hot\n",
    "\n",
    "\n",
    "\"\"\"\n",
    "DON'T MODIFY ANYTHING IN THIS CELL THAT IS BELOW THIS LINE\n",
    "\"\"\"\n",
    "tests.test_one_hot_encode(one_hot_encode)"
   ]
  },
  {
   "cell_type": "markdown",
   "metadata": {
    "deletable": true,
    "editable": true
   },
   "source": [
    "### Randomize Data\n",
    "As you saw from exploring the data above, the order of the samples are randomized.  It doesn't hurt to randomize it again, but you don't need to for this dataset."
   ]
  },
  {
   "cell_type": "markdown",
   "metadata": {
    "deletable": true,
    "editable": true
   },
   "source": [
    "## Preprocess all the data and save it\n",
    "Running the code cell below will preprocess all the CIFAR-10 data and save it to file. The code below also uses 10% of the training data for validation."
   ]
  },
  {
   "cell_type": "code",
   "execution_count": 5,
   "metadata": {
    "collapsed": false,
    "deletable": true,
    "editable": true
   },
   "outputs": [],
   "source": [
    "\"\"\"\n",
    "DON'T MODIFY ANYTHING IN THIS CELL\n",
    "\"\"\"\n",
    "# Preprocess Training, Validation, and Testing Data\n",
    "helper.preprocess_and_save_data(cifar10_dataset_folder_path, normalize, one_hot_encode)"
   ]
  },
  {
   "cell_type": "markdown",
   "metadata": {
    "deletable": true,
    "editable": true
   },
   "source": [
    "# Check Point\n",
    "This is your first checkpoint.  If you ever decide to come back to this notebook or have to restart the notebook, you can start from here.  The preprocessed data has been saved to disk."
   ]
  },
  {
   "cell_type": "code",
   "execution_count": 6,
   "metadata": {
    "collapsed": true,
    "deletable": true,
    "editable": true
   },
   "outputs": [],
   "source": [
    "\"\"\"\n",
    "DON'T MODIFY ANYTHING IN THIS CELL\n",
    "\"\"\"\n",
    "import pickle\n",
    "import problem_unittests as tests\n",
    "import helper\n",
    "\n",
    "# Load the Preprocessed Validation data\n",
    "valid_features, valid_labels = pickle.load(open('preprocess_validation.p', mode='rb'))"
   ]
  },
  {
   "cell_type": "markdown",
   "metadata": {
    "deletable": true,
    "editable": true
   },
   "source": [
    "## Build the network\n",
    "For the neural network, you'll build each layer into a function.  Most of the code you've seen has been outside of functions. To test your code more thoroughly, we require that you put each layer in a function.  This allows us to give you better feedback and test for simple mistakes using our unittests before you submit your project.\n",
    "\n",
    ">**Note:** If you're finding it hard to dedicate enough time for this course each week, we've provided a small shortcut to this part of the project. In the next couple of problems, you'll have the option to use classes from the [TensorFlow Layers](https://www.tensorflow.org/api_docs/python/tf/layers) or [TensorFlow Layers (contrib)](https://www.tensorflow.org/api_guides/python/contrib.layers) packages to build each layer, except the layers you build in the \"Convolutional and Max Pooling Layer\" section.  TF Layers is similar to Keras's and TFLearn's abstraction to layers, so it's easy to pickup.\n",
    "\n",
    ">However, if you would like to get the most out of this course, try to solve all the problems _without_ using anything from the TF Layers packages. You **can** still use classes from other packages that happen to have the same name as ones you find in TF Layers! For example, instead of using the TF Layers version of the `conv2d` class, [tf.layers.conv2d](https://www.tensorflow.org/api_docs/python/tf/layers/conv2d), you would want to use the TF Neural Network version of `conv2d`, [tf.nn.conv2d](https://www.tensorflow.org/api_docs/python/tf/nn/conv2d). \n",
    "\n",
    "Let's begin!\n",
    "\n",
    "### Input\n",
    "The neural network needs to read the image data, one-hot encoded labels, and dropout keep probability. Implement the following functions\n",
    "* Implement `neural_net_image_input`\n",
    " * Return a [TF Placeholder](https://www.tensorflow.org/api_docs/python/tf/placeholder)\n",
    " * Set the shape using `image_shape` with batch size set to `None`.\n",
    " * Name the TensorFlow placeholder \"x\" using the TensorFlow `name` parameter in the [TF Placeholder](https://www.tensorflow.org/api_docs/python/tf/placeholder).\n",
    "* Implement `neural_net_label_input`\n",
    " * Return a [TF Placeholder](https://www.tensorflow.org/api_docs/python/tf/placeholder)\n",
    " * Set the shape using `n_classes` with batch size set to `None`.\n",
    " * Name the TensorFlow placeholder \"y\" using the TensorFlow `name` parameter in the [TF Placeholder](https://www.tensorflow.org/api_docs/python/tf/placeholder).\n",
    "* Implement `neural_net_keep_prob_input`\n",
    " * Return a [TF Placeholder](https://www.tensorflow.org/api_docs/python/tf/placeholder) for dropout keep probability.\n",
    " * Name the TensorFlow placeholder \"keep_prob\" using the TensorFlow `name` parameter in the [TF Placeholder](https://www.tensorflow.org/api_docs/python/tf/placeholder).\n",
    "\n",
    "These names will be used at the end of the project to load your saved model.\n",
    "\n",
    "Note: `None` for shapes in TensorFlow allow for a dynamic size."
   ]
  },
  {
   "cell_type": "code",
   "execution_count": 7,
   "metadata": {
    "collapsed": false,
    "deletable": true,
    "editable": true
   },
   "outputs": [
    {
     "name": "stdout",
     "output_type": "stream",
     "text": [
      "Image Input Tests Passed.\n",
      "Label Input Tests Passed.\n",
      "Keep Prob Tests Passed.\n"
     ]
    }
   ],
   "source": [
    "import tensorflow as tf\n",
    "\n",
    "def neural_net_image_input(image_shape):\n",
    "    \"\"\"\n",
    "    Return a Tensor for a bach of image input\n",
    "    : image_shape: Shape of the images\n",
    "    : return: Tensor for image input.\n",
    "    \"\"\"\n",
    "    \n",
    "    return tf.placeholder(tf.float32, (None,image_shape[0],image_shape[1],image_shape[2]),name=\"x\")\n",
    "\n",
    "\n",
    "def neural_net_label_input(n_classes):\n",
    "    \"\"\"\n",
    "    Return a Tensor for a batch of label input\n",
    "    : n_classes: Number of classes\n",
    "    : return: Tensor for label input.\n",
    "    \"\"\"\n",
    "    # TODO: Implement Function\n",
    "    return tf.placeholder(tf.float32,[None, n_classes],name=\"y\")\n",
    "\n",
    "def neural_net_keep_prob_input():\n",
    "    \"\"\"\n",
    "    Return a Tensor for keep probability\n",
    "    : return: Tensor for keep probability.\n",
    "    \"\"\"\n",
    "    # TODO: Implement Function\n",
    "    return tf.placeholder(tf.float32,name=\"keep_prob\")\n",
    "\n",
    "\n",
    "\"\"\"\n",
    "DON'T MODIFY ANYTHING IN THIS CELL THAT IS BELOW THIS LINE\n",
    "\"\"\"\n",
    "tf.reset_default_graph()\n",
    "tests.test_nn_image_inputs(neural_net_image_input)\n",
    "tests.test_nn_label_inputs(neural_net_label_input)\n",
    "tests.test_nn_keep_prob_inputs(neural_net_keep_prob_input)"
   ]
  },
  {
   "cell_type": "markdown",
   "metadata": {
    "deletable": true,
    "editable": true
   },
   "source": [
    "### Convolution and Max Pooling Layer\n",
    "Convolution layers have a lot of success with images. For this code cell, you should implement the function `conv2d_maxpool` to apply convolution then max pooling:\n",
    "* Create the weight and bias using `conv_ksize`, `conv_num_outputs` and the shape of `x_tensor`.\n",
    "* Apply a convolution to `x_tensor` using weight and `conv_strides`.\n",
    " * We recommend you use same padding, but you're welcome to use any padding.\n",
    "* Add bias\n",
    "* Add a nonlinear activation to the convolution.\n",
    "* Apply Max Pooling using `pool_ksize` and `pool_strides`.\n",
    " * We recommend you use same padding, but you're welcome to use any padding.\n",
    "\n",
    "**Note:** You **can't** use [TensorFlow Layers](https://www.tensorflow.org/api_docs/python/tf/layers) or [TensorFlow Layers (contrib)](https://www.tensorflow.org/api_guides/python/contrib.layers) for **this** layer, but you can still use TensorFlow's [Neural Network](https://www.tensorflow.org/api_docs/python/tf/nn) package. You may still use the shortcut option for all the **other** layers."
   ]
  },
  {
   "cell_type": "code",
   "execution_count": 8,
   "metadata": {
    "collapsed": false,
    "deletable": true,
    "editable": true
   },
   "outputs": [
    {
     "name": "stdout",
     "output_type": "stream",
     "text": [
      "Tests Passed\n"
     ]
    }
   ],
   "source": [
    "def conv2d_maxpool(x_tensor, conv_num_outputs, conv_ksize, conv_strides, pool_ksize, pool_strides):\n",
    "    \"\"\"\n",
    "    Apply convolution then max pooling to x_tensor\n",
    "    :param x_tensor: TensorFlow Tensor\n",
    "    :param conv_num_outputs: Number of outputs for the convolutional layer\n",
    "    :param conv_ksize: kernal size 2-D Tuple for the convolutional layer\n",
    "    :param conv_strides: Stride 2-D Tuple for convolution\n",
    "    :param pool_ksize: kernal size 2-D Tuple for pool\n",
    "    :param pool_strides: Stride 2-D Tuple for pool\n",
    "    : return: A tensor that represents convolution and max pooling of x_tensor\n",
    "    \"\"\"\n",
    "    #shapes: [conv size x, conv size y, color channels, conv outputs]\n",
    "    # Create the weight and bias using conv_ksize, conv_num_outputs and the shape of x_tensor.\n",
    "    weights = tf.Variable(tf.truncated_normal((conv_ksize[0], conv_ksize[1],\n",
    "                                              x_tensor.get_shape().as_list()[3],conv_num_outputs),\n",
    "                                              stddev=0.1))\n",
    "    bias = tf.Variable(tf.zeros([conv_num_outputs]))\n",
    "    \n",
    "    # Alrigth, one second here. Changes in the TF API in 1.0 are making me angry. \n",
    "    # x_tensor.get_shape().as_list()[3] in TF 1.0 is just x_tensor.shape[3] \n",
    "    # could become \"deprecated\" for a while before breaking everything? Sigh\n",
    "    # Serves me right for delaying this project for so much anyway and jumping strait to\n",
    "    # the newer ones...\n",
    "    \n",
    "    \n",
    "    # Apply a convolution to x_tensor using weight and conv_strides. Using \"SAME\" padding\n",
    "    conv_layer = tf.nn.conv2d(x_tensor,weights,strides=[1,conv_strides[0],conv_strides[1],1],\n",
    "                       padding=\"SAME\")\n",
    "    # Add a bias\n",
    "    conv_layer = tf.nn.bias_add(conv_layer,bias)\n",
    "    \n",
    "    # Add a nonlinear activation to the convolution.\n",
    "    conv_layer = tf.nn.relu(conv_layer)\n",
    "    \n",
    "    # Apply Max Pooling using pool_ksize and pool_strides.\n",
    "    conv_layer = tf.nn.max_pool(conv_layer, ksize=[1, pool_ksize[0], pool_ksize[1], 1],\n",
    "                               strides=[1, pool_strides[0], pool_strides[1], 1],\n",
    "                               padding=\"SAME\")\n",
    "\n",
    "    return conv_layer \n",
    "\n",
    "\n",
    "\"\"\"\n",
    "DON'T MODIFY ANYTHING IN THIS CELL THAT IS BELOW THIS LINE\n",
    "\"\"\"\n",
    "tests.test_con_pool(conv2d_maxpool)"
   ]
  },
  {
   "cell_type": "markdown",
   "metadata": {
    "deletable": true,
    "editable": true
   },
   "source": [
    "### Flatten Layer\n",
    "Implement the `flatten` function to change the dimension of `x_tensor` from a 4-D tensor to a 2-D tensor.  The output should be the shape (*Batch Size*, *Flattened Image Size*). Shortcut option: you can use classes from the [TensorFlow Layers](https://www.tensorflow.org/api_docs/python/tf/layers) or [TensorFlow Layers (contrib)](https://www.tensorflow.org/api_guides/python/contrib.layers) packages for this layer. For more of a challenge, only use other TensorFlow packages."
   ]
  },
  {
   "cell_type": "code",
   "execution_count": 9,
   "metadata": {
    "collapsed": false,
    "deletable": true,
    "editable": true
   },
   "outputs": [
    {
     "name": "stdout",
     "output_type": "stream",
     "text": [
      "Tests Passed\n"
     ]
    }
   ],
   "source": [
    "def flatten(x_tensor):\n",
    "    \"\"\"\n",
    "    Flatten x_tensor to (Batch Size, Flattened Image Size)\n",
    "    : x_tensor: A tensor of size (Batch Size, ...), where ... are the image dimensions.\n",
    "    : return: A tensor of size (Batch Size, Flattened Image Size).\n",
    "    \"\"\"\n",
    "\n",
    "    return tf.contrib.layers.flatten(x_tensor)\n",
    "\n",
    "\n",
    "\"\"\"\n",
    "DON'T MODIFY ANYTHING IN THIS CELL THAT IS BELOW THIS LINE\n",
    "\"\"\"\n",
    "tests.test_flatten(flatten)"
   ]
  },
  {
   "cell_type": "markdown",
   "metadata": {
    "deletable": true,
    "editable": true
   },
   "source": [
    "### Fully-Connected Layer\n",
    "Implement the `fully_conn` function to apply a fully connected layer to `x_tensor` with the shape (*Batch Size*, *num_outputs*). Shortcut option: you can use classes from the [TensorFlow Layers](https://www.tensorflow.org/api_docs/python/tf/layers) or [TensorFlow Layers (contrib)](https://www.tensorflow.org/api_guides/python/contrib.layers) packages for this layer. For more of a challenge, only use other TensorFlow packages."
   ]
  },
  {
   "cell_type": "code",
   "execution_count": 10,
   "metadata": {
    "collapsed": false,
    "deletable": true,
    "editable": true
   },
   "outputs": [
    {
     "name": "stdout",
     "output_type": "stream",
     "text": [
      "Tests Passed\n"
     ]
    }
   ],
   "source": [
    "def fully_conn(x_tensor, num_outputs):\n",
    "    \"\"\"\n",
    "    Apply a fully connected layer to x_tensor using weight and bias\n",
    "    : x_tensor: A 2-D tensor where the first dimension is batch size.\n",
    "    : num_outputs: The number of output that the new tensor should be.\n",
    "    : return: A 2-D tensor where the second dimension is num_outputs.\n",
    "    \"\"\"\n",
    "    # The default activation value is a ReLU function\n",
    "    return tf.contrib.layers.fully_connected(x_tensor,num_outputs)\n",
    "\n",
    "\n",
    "\"\"\"\n",
    "DON'T MODIFY ANYTHING IN THIS CELL THAT IS BELOW THIS LINE\n",
    "\"\"\"\n",
    "tests.test_fully_conn(fully_conn)"
   ]
  },
  {
   "cell_type": "markdown",
   "metadata": {
    "deletable": true,
    "editable": true
   },
   "source": [
    "### Output Layer\n",
    "Implement the `output` function to apply a fully connected layer to `x_tensor` with the shape (*Batch Size*, *num_outputs*). Shortcut option: you can use classes from the [TensorFlow Layers](https://www.tensorflow.org/api_docs/python/tf/layers) or [TensorFlow Layers (contrib)](https://www.tensorflow.org/api_guides/python/contrib.layers) packages for this layer. For more of a challenge, only use other TensorFlow packages.\n",
    "\n",
    "**Note:** Activation, softmax, or cross entropy should **not** be applied to this."
   ]
  },
  {
   "cell_type": "code",
   "execution_count": 11,
   "metadata": {
    "collapsed": false,
    "deletable": true,
    "editable": true
   },
   "outputs": [
    {
     "name": "stdout",
     "output_type": "stream",
     "text": [
      "Tests Passed\n"
     ]
    }
   ],
   "source": [
    "def output(x_tensor, num_outputs):\n",
    "    \"\"\"\n",
    "    Apply a output layer to x_tensor using weight and bias\n",
    "    : x_tensor: A 2-D tensor where the first dimension is batch size.\n",
    "    : num_outputs: The number of output that the new tensor should be.\n",
    "    : return: A 2-D tensor where the second dimension is num_outputs.\n",
    "    \"\"\"\n",
    "    # Using the contrib ... I guess is exactly the same as before?\n",
    "    # In a way, I want to explore all notebooks and Siraj examples (at this moment,\n",
    "    # I'm trying a fork of the text summarization) freely to get deep into this.\n",
    "    # Don't mind the contrib use.\n",
    "    return tf.contrib.layers.fully_connected(x_tensor,num_outputs,)\n",
    "\n",
    "\n",
    "\"\"\"\n",
    "DON'T MODIFY ANYTHING IN THIS CELL THAT IS BELOW THIS LINE\n",
    "\"\"\"\n",
    "tests.test_output(output)"
   ]
  },
  {
   "cell_type": "markdown",
   "metadata": {
    "deletable": true,
    "editable": true
   },
   "source": [
    "### Create Convolutional Model\n",
    "Implement the function `conv_net` to create a convolutional neural network model. The function takes in a batch of images, `x`, and outputs logits.  Use the layers you created above to create this model:\n",
    "\n",
    "* Apply 1, 2, or 3 Convolution and Max Pool layers\n",
    "* Apply a Flatten Layer\n",
    "* Apply 1, 2, or 3 Fully Connected Layers\n",
    "* Apply an Output Layer\n",
    "* Return the output\n",
    "* Apply [TensorFlow's Dropout](https://www.tensorflow.org/api_docs/python/tf/nn/dropout) to one or more layers in the model using `keep_prob`. "
   ]
  },
  {
   "cell_type": "code",
   "execution_count": 12,
   "metadata": {
    "collapsed": false,
    "deletable": true,
    "editable": true
   },
   "outputs": [
    {
     "name": "stdout",
     "output_type": "stream",
     "text": [
      "Neural Network Built!\n"
     ]
    }
   ],
   "source": [
    "def conv_net(x, keep_prob):\n",
    "    \"\"\"\n",
    "    Create a convolutional neural network model\n",
    "    : x: Placeholder tensor that holds image data.\n",
    "    : keep_prob: Placeholder tensor that hold dropout keep probability.\n",
    "    : return: Tensor that represents logits\n",
    "    \"\"\"\n",
    "       \n",
    "    # TODO: Apply 1, 2, or 3 Convolution and Max Pool layers\n",
    "    #    Play around with different number of outputs, kernel size and stride\n",
    "    # Function Definition from Above:\n",
    "    #    conv2d_maxpool(x_tensor, conv_num_outputs, conv_ksize, conv_strides, pool_ksize, pool_strides)\n",
    "    \n",
    "    conv_num_outputs = 32\n",
    "    conv_ksize = (2, 2)\n",
    "    conv_strides = (1, 1)\n",
    "    pool_ksize = (2, 2)\n",
    "    pool_strides = (2, 2)\n",
    "    # conv1\n",
    "    conv1 = conv2d_maxpool(x, conv_num_outputs, conv_ksize, conv_strides,\n",
    "                           pool_ksize,pool_strides)\n",
    "    conv1 = tf.nn.dropout(conv1, keep_prob)\n",
    "    \n",
    "    # conv2\n",
    "    conv_num_outputs = 48\n",
    "    conv2 = conv2d_maxpool(conv1,conv_num_outputs,conv_ksize,conv_strides,\n",
    "                           pool_ksize,pool_strides)\n",
    "    conv2 = tf.nn.dropout(conv2, keep_prob)\n",
    "    \n",
    "    # conv3\n",
    "    conv_num_outputs = 64\n",
    "    conv3 = conv2d_maxpool(conv2,conv_num_outputs,conv_ksize,conv_strides,\n",
    "                           pool_ksize,pool_strides)\n",
    "\n",
    "    # TODO: Apply a Flatten Layer\n",
    "    # Function Definition from Above:\n",
    "    #   flatten(x_tensor)\n",
    "    flattened = flatten(conv3)\n",
    "\n",
    "    # TODO: Apply 1, 2, or 3 Fully Connected Layers\n",
    "    #    Play around with different number of outputs\n",
    "    # Function Definition from Above:\n",
    "    #   fully_conn(x_tensor, num_outputs)\n",
    "    fully_1 = fully_conn(flattened, num_outputs=128)\n",
    "    fully_2 = fully_conn(fully_1, num_outputs=64)\n",
    "    \n",
    "    \n",
    "    # TODO: Apply an Output Layer\n",
    "    #    Set this to the number of classes\n",
    "    # Function Definition from Above:\n",
    "    #   output(x_tensor, num_outputs)\n",
    "    \n",
    "    # Shouldn't this parameter one be an input in this function?\n",
    "    num_outputs = 10\n",
    "    result = output(fully_2, num_outputs)\n",
    "    \n",
    "    # TODO: return output\n",
    "    return result\n",
    "\n",
    "\n",
    "\"\"\"\n",
    "DON'T MODIFY ANYTHING IN THIS CELL THAT IS BELOW THIS LINE\n",
    "\"\"\"\n",
    "\n",
    "##############################\n",
    "## Build the Neural Network ##\n",
    "##############################\n",
    "\n",
    "# Remove previous weights, bias, inputs, etc..\n",
    "tf.reset_default_graph()\n",
    "\n",
    "# Inputs\n",
    "x = neural_net_image_input((32, 32, 3))\n",
    "y = neural_net_label_input(10)\n",
    "keep_prob = neural_net_keep_prob_input()\n",
    "\n",
    "# Model\n",
    "logits = conv_net(x, keep_prob)\n",
    "\n",
    "# Name logits Tensor, so that is can be loaded from disk after training\n",
    "logits = tf.identity(logits, name='logits')\n",
    "\n",
    "# Loss and Optimizer\n",
    "cost = tf.reduce_mean(tf.nn.softmax_cross_entropy_with_logits(logits=logits, labels=y))\n",
    "optimizer = tf.train.AdamOptimizer().minimize(cost)\n",
    "\n",
    "# Accuracy\n",
    "correct_pred = tf.equal(tf.argmax(logits, 1), tf.argmax(y, 1))\n",
    "accuracy = tf.reduce_mean(tf.cast(correct_pred, tf.float32), name='accuracy')\n",
    "\n",
    "tests.test_conv_net(conv_net)"
   ]
  },
  {
   "cell_type": "markdown",
   "metadata": {
    "deletable": true,
    "editable": true
   },
   "source": [
    "## Train the Neural Network\n",
    "### Single Optimization\n",
    "Implement the function `train_neural_network` to do a single optimization.  The optimization should use `optimizer` to optimize in `session` with a `feed_dict` of the following:\n",
    "* `x` for image input\n",
    "* `y` for labels\n",
    "* `keep_prob` for keep probability for dropout\n",
    "\n",
    "This function will be called for each batch, so `tf.global_variables_initializer()` has already been called.\n",
    "\n",
    "Note: Nothing needs to be returned. This function is only optimizing the neural network."
   ]
  },
  {
   "cell_type": "code",
   "execution_count": 13,
   "metadata": {
    "collapsed": false,
    "deletable": true,
    "editable": true
   },
   "outputs": [
    {
     "name": "stdout",
     "output_type": "stream",
     "text": [
      "Tests Passed\n"
     ]
    }
   ],
   "source": [
    "def train_neural_network(session, optimizer, keep_probability, feature_batch, label_batch):\n",
    "    \"\"\"\n",
    "    Optimize the session on a batch of images and labels\n",
    "    : session: Current TensorFlow session\n",
    "    : optimizer: TensorFlow optimizer function\n",
    "    : keep_probability: keep probability\n",
    "    : feature_batch: Batch of Numpy image data\n",
    "    : label_batch: Batch of Numpy label data\n",
    "    \"\"\"\n",
    "    session.run(optimizer, feed_dict={\n",
    "        x: feature_batch, \n",
    "        y: label_batch, \n",
    "        keep_prob: keep_probability})\n",
    "\n",
    "\n",
    "\"\"\"\n",
    "DON'T MODIFY ANYTHING IN THIS CELL THAT IS BELOW THIS LINE\n",
    "\"\"\"\n",
    "tests.test_train_nn(train_neural_network)"
   ]
  },
  {
   "cell_type": "markdown",
   "metadata": {
    "deletable": true,
    "editable": true
   },
   "source": [
    "### Show Stats\n",
    "Implement the function `print_stats` to print loss and validation accuracy.  Use the global variables `valid_features` and `valid_labels` to calculate validation accuracy.  Use a keep probability of `1.0` to calculate the loss and validation accuracy."
   ]
  },
  {
   "cell_type": "code",
   "execution_count": 14,
   "metadata": {
    "collapsed": false,
    "deletable": true,
    "editable": true
   },
   "outputs": [],
   "source": [
    "def print_stats(session, feature_batch, label_batch, cost, accuracy):\n",
    "    \"\"\"\n",
    "    Print information about loss and validation accuracy\n",
    "    : session: Current TensorFlow session\n",
    "    : feature_batch: Batch of Numpy image data\n",
    "    : label_batch: Batch of Numpy label data\n",
    "    : cost: TensorFlow cost function\n",
    "    : accuracy: TensorFlow accuracy function\n",
    "    \"\"\"\n",
    "    loss = session.run(cost, feed_dict={\n",
    "        x: feature_batch,\n",
    "        y: label_batch,\n",
    "        keep_prob: 1.0})\n",
    "    validation_accuracy = session.run(accuracy, feed_dict={\n",
    "        x: valid_features,\n",
    "        y: valid_labels,\n",
    "        keep_prob: 1.})\n",
    "    print('Cost: {} Accuracy: {}'.format(loss, validation_accuracy))"
   ]
  },
  {
   "cell_type": "markdown",
   "metadata": {
    "deletable": true,
    "editable": true
   },
   "source": [
    "### Hyperparameters\n",
    "Tune the following parameters:\n",
    "* Set `epochs` to the number of iterations until the network stops learning or start overfitting\n",
    "* Set `batch_size` to the highest number that your machine has memory for.  Most people set them to common sizes of memory:\n",
    " * 64\n",
    " * 128\n",
    " * 256\n",
    " * ...\n",
    "* Set `keep_probability` to the probability of keeping a node using dropout"
   ]
  },
  {
   "cell_type": "code",
   "execution_count": 15,
   "metadata": {
    "collapsed": true,
    "deletable": true,
    "editable": true
   },
   "outputs": [],
   "source": [
    "# TODO: Tune Parameters\n",
    "epochs = 35\n",
    "batch_size = 64\n",
    "keep_probability = 0.5\n",
    "\n",
    "# modified a couple of this of the conv_net at this point"
   ]
  },
  {
   "cell_type": "markdown",
   "metadata": {
    "deletable": true,
    "editable": true
   },
   "source": [
    "### Train on a Single CIFAR-10 Batch\n",
    "Instead of training the neural network on all the CIFAR-10 batches of data, let's use a single batch. This should save time while you iterate on the model to get a better accuracy.  Once the final validation accuracy is 50% or greater, run the model on all the data in the next section."
   ]
  },
  {
   "cell_type": "code",
   "execution_count": 16,
   "metadata": {
    "collapsed": false,
    "deletable": true,
    "editable": true
   },
   "outputs": [
    {
     "name": "stdout",
     "output_type": "stream",
     "text": [
      "Checking the Training on a Single Batch...\n",
      "Epoch  1, CIFAR-10 Batch 1:  Cost: 2.2498910427093506 Accuracy: 0.2571999728679657\n",
      "Epoch  2, CIFAR-10 Batch 1:  Cost: 2.1798620223999023 Accuracy: 0.32359999418258667\n",
      "Epoch  3, CIFAR-10 Batch 1:  Cost: 2.012361526489258 Accuracy: 0.3840000033378601\n",
      "Epoch  4, CIFAR-10 Batch 1:  Cost: 1.958289623260498 Accuracy: 0.41179996728897095\n",
      "Epoch  5, CIFAR-10 Batch 1:  Cost: 1.915529489517212 Accuracy: 0.42219993472099304\n",
      "Epoch  6, CIFAR-10 Batch 1:  Cost: 1.8857464790344238 Accuracy: 0.4291999638080597\n",
      "Epoch  7, CIFAR-10 Batch 1:  Cost: 1.8329083919525146 Accuracy: 0.44419997930526733\n",
      "Epoch  8, CIFAR-10 Batch 1:  Cost: 1.7737340927124023 Accuracy: 0.4625999629497528\n",
      "Epoch  9, CIFAR-10 Batch 1:  Cost: 1.7069106101989746 Accuracy: 0.48499998450279236\n",
      "Epoch 10, CIFAR-10 Batch 1:  Cost: 1.6824445724487305 Accuracy: 0.4877999424934387\n",
      "Epoch 11, CIFAR-10 Batch 1:  Cost: 1.6492416858673096 Accuracy: 0.4899999499320984\n",
      "Epoch 12, CIFAR-10 Batch 1:  Cost: 1.6395678520202637 Accuracy: 0.491799920797348\n",
      "Epoch 13, CIFAR-10 Batch 1:  Cost: 1.6167460680007935 Accuracy: 0.49959996342658997\n",
      "Epoch 14, CIFAR-10 Batch 1:  Cost: 1.581647515296936 Accuracy: 0.512999951839447\n",
      "Epoch 15, CIFAR-10 Batch 1:  Cost: 1.548987865447998 Accuracy: 0.5121999382972717\n",
      "Epoch 16, CIFAR-10 Batch 1:  Cost: 1.4813859462738037 Accuracy: 0.5155999660491943\n",
      "Epoch 17, CIFAR-10 Batch 1:  Cost: 1.4310392141342163 Accuracy: 0.5343999862670898\n",
      "Epoch 18, CIFAR-10 Batch 1:  Cost: 1.4150559902191162 Accuracy: 0.5299999713897705\n",
      "Epoch 19, CIFAR-10 Batch 1:  Cost: 1.4105820655822754 Accuracy: 0.5237998962402344\n",
      "Epoch 20, CIFAR-10 Batch 1:  Cost: 1.3692876100540161 Accuracy: 0.5389999151229858\n",
      "Epoch 21, CIFAR-10 Batch 1:  Cost: 1.4294239282608032 Accuracy: 0.5061999559402466\n",
      "Epoch 22, CIFAR-10 Batch 1:  Cost: 1.3282822370529175 Accuracy: 0.5353999137878418\n",
      "Epoch 23, CIFAR-10 Batch 1:  Cost: 1.3270305395126343 Accuracy: 0.5289999842643738\n",
      "Epoch 24, CIFAR-10 Batch 1:  Cost: 1.3112857341766357 Accuracy: 0.5339999794960022\n",
      "Epoch 25, CIFAR-10 Batch 1:  Cost: 1.322036623954773 Accuracy: 0.5225999355316162\n",
      "Epoch 26, CIFAR-10 Batch 1:  Cost: 1.2753726243972778 Accuracy: 0.5357999205589294\n",
      "Epoch 27, CIFAR-10 Batch 1:  Cost: 1.3139889240264893 Accuracy: 0.5251999497413635\n",
      "Epoch 28, CIFAR-10 Batch 1:  Cost: 1.261165976524353 Accuracy: 0.5345999002456665\n",
      "Epoch 29, CIFAR-10 Batch 1:  Cost: 1.2126137018203735 Accuracy: 0.5445998907089233\n",
      "Epoch 30, CIFAR-10 Batch 1:  Cost: 1.2013895511627197 Accuracy: 0.55159991979599\n",
      "Epoch 31, CIFAR-10 Batch 1:  Cost: 1.2175856828689575 Accuracy: 0.5477999448776245\n",
      "Epoch 32, CIFAR-10 Batch 1:  Cost: 1.1904293298721313 Accuracy: 0.5443999767303467\n",
      "Epoch 33, CIFAR-10 Batch 1:  Cost: 1.2141255140304565 Accuracy: 0.5435999631881714\n",
      "Epoch 34, CIFAR-10 Batch 1:  Cost: 1.1847699880599976 Accuracy: 0.547999918460846\n",
      "Epoch 35, CIFAR-10 Batch 1:  Cost: 1.1110689640045166 Accuracy: 0.561199963092804\n"
     ]
    }
   ],
   "source": [
    "\"\"\"\n",
    "DON'T MODIFY ANYTHING IN THIS CELL\n",
    "\"\"\"\n",
    "print('Checking the Training on a Single Batch...')\n",
    "with tf.Session() as sess:\n",
    "    # Initializing the variables\n",
    "    sess.run(tf.global_variables_initializer())\n",
    "    \n",
    "    # Training cycle\n",
    "    for epoch in range(epochs):\n",
    "        batch_i = 1\n",
    "        for batch_features, batch_labels in helper.load_preprocess_training_batch(batch_i, batch_size):\n",
    "            train_neural_network(sess, optimizer, keep_probability, batch_features, batch_labels)\n",
    "        print('Epoch {:>2}, CIFAR-10 Batch {}:  '.format(epoch + 1, batch_i), end='')\n",
    "        print_stats(sess, batch_features, batch_labels, cost, accuracy)"
   ]
  },
  {
   "cell_type": "markdown",
   "metadata": {
    "deletable": true,
    "editable": true
   },
   "source": [
    "### Fully Train the Model\n",
    "Now that you got a good accuracy with a single CIFAR-10 batch, try it with all five batches."
   ]
  },
  {
   "cell_type": "code",
   "execution_count": 17,
   "metadata": {
    "collapsed": false,
    "deletable": true,
    "editable": true
   },
   "outputs": [
    {
     "name": "stdout",
     "output_type": "stream",
     "text": [
      "Training...\n",
      "Epoch  1, CIFAR-10 Batch 1:  Cost: 2.291099786758423 Accuracy: 0.16179999709129333\n",
      "Epoch  1, CIFAR-10 Batch 2:  Cost: 2.13598895072937 Accuracy: 0.27159997820854187\n",
      "Epoch  1, CIFAR-10 Batch 3:  Cost: 1.856330156326294 Accuracy: 0.3553999662399292\n",
      "Epoch  1, CIFAR-10 Batch 4:  Cost: 1.8950438499450684 Accuracy: 0.398999959230423\n",
      "Epoch  1, CIFAR-10 Batch 5:  Cost: 1.8600894212722778 Accuracy: 0.3933999538421631\n",
      "Epoch  2, CIFAR-10 Batch 1:  Cost: 1.8683794736862183 Accuracy: 0.4331999719142914\n",
      "Epoch  2, CIFAR-10 Batch 2:  Cost: 1.7388559579849243 Accuracy: 0.44579994678497314\n",
      "Epoch  2, CIFAR-10 Batch 3:  Cost: 1.585172176361084 Accuracy: 0.4461999535560608\n",
      "Epoch  2, CIFAR-10 Batch 4:  Cost: 1.7083768844604492 Accuracy: 0.4575999975204468\n",
      "Epoch  2, CIFAR-10 Batch 5:  Cost: 1.7216181755065918 Accuracy: 0.4501999616622925\n",
      "Epoch  3, CIFAR-10 Batch 1:  Cost: 1.753607988357544 Accuracy: 0.4655999541282654\n",
      "Epoch  3, CIFAR-10 Batch 2:  Cost: 1.641585350036621 Accuracy: 0.4761999845504761\n",
      "Epoch  3, CIFAR-10 Batch 3:  Cost: 1.5046536922454834 Accuracy: 0.4845999479293823\n",
      "Epoch  3, CIFAR-10 Batch 4:  Cost: 1.57090425491333 Accuracy: 0.4931999444961548\n",
      "Epoch  3, CIFAR-10 Batch 5:  Cost: 1.7002630233764648 Accuracy: 0.47259998321533203\n",
      "Epoch  4, CIFAR-10 Batch 1:  Cost: 1.5585217475891113 Accuracy: 0.5013999342918396\n",
      "Epoch  4, CIFAR-10 Batch 2:  Cost: 1.5554053783416748 Accuracy: 0.4943999648094177\n",
      "Epoch  4, CIFAR-10 Batch 3:  Cost: 1.560119390487671 Accuracy: 0.4915999472141266\n",
      "Epoch  4, CIFAR-10 Batch 4:  Cost: 1.5689160823822021 Accuracy: 0.49779999256134033\n",
      "Epoch  4, CIFAR-10 Batch 5:  Cost: 1.7655987739562988 Accuracy: 0.44699999690055847\n",
      "Epoch  5, CIFAR-10 Batch 1:  Cost: 1.5637770891189575 Accuracy: 0.5097999572753906\n",
      "Epoch  5, CIFAR-10 Batch 2:  Cost: 1.6096186637878418 Accuracy: 0.4737999737262726\n",
      "Epoch  5, CIFAR-10 Batch 3:  Cost: 1.4672267436981201 Accuracy: 0.5053999423980713\n",
      "Epoch  5, CIFAR-10 Batch 4:  Cost: 1.6495997905731201 Accuracy: 0.486799955368042\n",
      "Epoch  5, CIFAR-10 Batch 5:  Cost: 1.4736734628677368 Accuracy: 0.5251999497413635\n",
      "Epoch  6, CIFAR-10 Batch 1:  Cost: 1.4940338134765625 Accuracy: 0.5377999544143677\n",
      "Epoch  6, CIFAR-10 Batch 2:  Cost: 1.5227347612380981 Accuracy: 0.5215998888015747\n",
      "Epoch  6, CIFAR-10 Batch 3:  Cost: 1.4286905527114868 Accuracy: 0.5065999627113342\n",
      "Epoch  6, CIFAR-10 Batch 4:  Cost: 1.4573543071746826 Accuracy: 0.5339999794960022\n",
      "Epoch  6, CIFAR-10 Batch 5:  Cost: 1.5440651178359985 Accuracy: 0.5105999112129211\n",
      "Epoch  7, CIFAR-10 Batch 1:  Cost: 1.429172396659851 Accuracy: 0.5501999855041504\n",
      "Epoch  7, CIFAR-10 Batch 2:  Cost: 1.4921884536743164 Accuracy: 0.5301999449729919\n",
      "Epoch  7, CIFAR-10 Batch 3:  Cost: 1.2794685363769531 Accuracy: 0.5475999116897583\n",
      "Epoch  7, CIFAR-10 Batch 4:  Cost: 1.4158697128295898 Accuracy: 0.5483999848365784\n",
      "Epoch  7, CIFAR-10 Batch 5:  Cost: 1.4282753467559814 Accuracy: 0.5371999144554138\n",
      "Epoch  8, CIFAR-10 Batch 1:  Cost: 1.398497223854065 Accuracy: 0.5583999156951904\n",
      "Epoch  8, CIFAR-10 Batch 2:  Cost: 1.4341552257537842 Accuracy: 0.5589999556541443\n",
      "Epoch  8, CIFAR-10 Batch 3:  Cost: 1.1677738428115845 Accuracy: 0.5787999033927917\n",
      "Epoch  8, CIFAR-10 Batch 4:  Cost: 1.3928141593933105 Accuracy: 0.5469999313354492\n",
      "Epoch  8, CIFAR-10 Batch 5:  Cost: 1.3692997694015503 Accuracy: 0.5495998859405518\n",
      "Epoch  9, CIFAR-10 Batch 1:  Cost: 1.3065377473831177 Accuracy: 0.5757999420166016\n",
      "Epoch  9, CIFAR-10 Batch 2:  Cost: 1.2732676267623901 Accuracy: 0.5693999528884888\n",
      "Epoch  9, CIFAR-10 Batch 3:  Cost: 1.0871658325195312 Accuracy: 0.548599898815155\n",
      "Epoch  9, CIFAR-10 Batch 4:  Cost: 1.2000036239624023 Accuracy: 0.53739994764328\n",
      "Epoch  9, CIFAR-10 Batch 5:  Cost: 1.1913135051727295 Accuracy: 0.5663999319076538\n",
      "Epoch 10, CIFAR-10 Batch 1:  Cost: 1.2687675952911377 Accuracy: 0.6025998592376709\n",
      "Epoch 10, CIFAR-10 Batch 2:  Cost: 1.1539247035980225 Accuracy: 0.5877999663352966\n",
      "Epoch 10, CIFAR-10 Batch 3:  Cost: 0.9990811347961426 Accuracy: 0.5645999312400818\n",
      "Epoch 10, CIFAR-10 Batch 4:  Cost: 1.113677740097046 Accuracy: 0.5829998850822449\n",
      "Epoch 10, CIFAR-10 Batch 5:  Cost: 1.1515898704528809 Accuracy: 0.5833998918533325\n",
      "Epoch 11, CIFAR-10 Batch 1:  Cost: 1.2073230743408203 Accuracy: 0.609799861907959\n",
      "Epoch 11, CIFAR-10 Batch 2:  Cost: 1.0614476203918457 Accuracy: 0.6041999459266663\n",
      "Epoch 11, CIFAR-10 Batch 3:  Cost: 0.9814242720603943 Accuracy: 0.5737999081611633\n",
      "Epoch 11, CIFAR-10 Batch 4:  Cost: 1.1270995140075684 Accuracy: 0.5779999494552612\n",
      "Epoch 11, CIFAR-10 Batch 5:  Cost: 1.146846890449524 Accuracy: 0.5589998960494995\n",
      "Epoch 12, CIFAR-10 Batch 1:  Cost: 1.171140193939209 Accuracy: 0.6251999139785767\n",
      "Epoch 12, CIFAR-10 Batch 2:  Cost: 1.0475587844848633 Accuracy: 0.5947999358177185\n",
      "Epoch 12, CIFAR-10 Batch 3:  Cost: 0.8965121507644653 Accuracy: 0.5867999196052551\n",
      "Epoch 12, CIFAR-10 Batch 4:  Cost: 1.1316145658493042 Accuracy: 0.5879998803138733\n",
      "Epoch 12, CIFAR-10 Batch 5:  Cost: 1.133429765701294 Accuracy: 0.5787999033927917\n",
      "Epoch 13, CIFAR-10 Batch 1:  Cost: 1.1740515232086182 Accuracy: 0.6223999261856079\n",
      "Epoch 13, CIFAR-10 Batch 2:  Cost: 1.0850510597229004 Accuracy: 0.596799910068512\n",
      "Epoch 13, CIFAR-10 Batch 3:  Cost: 0.8896820545196533 Accuracy: 0.5849999189376831\n",
      "Epoch 13, CIFAR-10 Batch 4:  Cost: 1.0210262537002563 Accuracy: 0.5989998579025269\n",
      "Epoch 13, CIFAR-10 Batch 5:  Cost: 1.0680725574493408 Accuracy: 0.5885999798774719\n",
      "Epoch 14, CIFAR-10 Batch 1:  Cost: 1.2057392597198486 Accuracy: 0.6207999587059021\n",
      "Epoch 14, CIFAR-10 Batch 2:  Cost: 1.1044580936431885 Accuracy: 0.597399890422821\n",
      "Epoch 14, CIFAR-10 Batch 3:  Cost: 0.866265058517456 Accuracy: 0.5911998748779297\n",
      "Epoch 14, CIFAR-10 Batch 4:  Cost: 1.0037710666656494 Accuracy: 0.6089998483657837\n",
      "Epoch 14, CIFAR-10 Batch 5:  Cost: 1.0267244577407837 Accuracy: 0.6083999276161194\n",
      "Epoch 15, CIFAR-10 Batch 1:  Cost: 1.0157138109207153 Accuracy: 0.6393999457359314\n",
      "Epoch 15, CIFAR-10 Batch 2:  Cost: 1.006866693496704 Accuracy: 0.6295998692512512\n",
      "Epoch 15, CIFAR-10 Batch 3:  Cost: 0.9628934860229492 Accuracy: 0.5783998966217041\n",
      "Epoch 15, CIFAR-10 Batch 4:  Cost: 0.9609194993972778 Accuracy: 0.6073998808860779\n",
      "Epoch 15, CIFAR-10 Batch 5:  Cost: 1.0539939403533936 Accuracy: 0.5949999094009399\n",
      "Epoch 16, CIFAR-10 Batch 1:  Cost: 1.0885690450668335 Accuracy: 0.6345999240875244\n",
      "Epoch 16, CIFAR-10 Batch 2:  Cost: 1.0283770561218262 Accuracy: 0.6179999113082886\n",
      "Epoch 16, CIFAR-10 Batch 3:  Cost: 0.7475937604904175 Accuracy: 0.6197998523712158\n",
      "Epoch 16, CIFAR-10 Batch 4:  Cost: 0.9830459356307983 Accuracy: 0.6059999465942383\n",
      "Epoch 16, CIFAR-10 Batch 5:  Cost: 0.9588304162025452 Accuracy: 0.6339998841285706\n",
      "Epoch 17, CIFAR-10 Batch 1:  Cost: 1.092715859413147 Accuracy: 0.6431998610496521\n",
      "Epoch 17, CIFAR-10 Batch 2:  Cost: 0.9975132942199707 Accuracy: 0.6113998889923096\n",
      "Epoch 17, CIFAR-10 Batch 3:  Cost: 0.8108986020088196 Accuracy: 0.6157999038696289\n",
      "Epoch 17, CIFAR-10 Batch 4:  Cost: 1.051878809928894 Accuracy: 0.5817999839782715\n",
      "Epoch 17, CIFAR-10 Batch 5:  Cost: 1.0861923694610596 Accuracy: 0.6125999689102173\n",
      "Epoch 18, CIFAR-10 Batch 1:  Cost: 1.0742290019989014 Accuracy: 0.6511998176574707\n",
      "Epoch 18, CIFAR-10 Batch 2:  Cost: 0.9297055006027222 Accuracy: 0.6371999382972717\n",
      "Epoch 18, CIFAR-10 Batch 3:  Cost: 0.7735257148742676 Accuracy: 0.6261999011039734\n",
      "Epoch 18, CIFAR-10 Batch 4:  Cost: 0.9799556136131287 Accuracy: 0.6251999139785767\n",
      "Epoch 18, CIFAR-10 Batch 5:  Cost: 0.9769089221954346 Accuracy: 0.6311999559402466\n",
      "Epoch 19, CIFAR-10 Batch 1:  Cost: 1.056988000869751 Accuracy: 0.6603999137878418\n",
      "Epoch 19, CIFAR-10 Batch 2:  Cost: 0.9531314969062805 Accuracy: 0.6427998542785645\n",
      "Epoch 19, CIFAR-10 Batch 3:  Cost: 0.6638494729995728 Accuracy: 0.637799859046936\n",
      "Epoch 19, CIFAR-10 Batch 4:  Cost: 0.9951114058494568 Accuracy: 0.6017999053001404\n",
      "Epoch 19, CIFAR-10 Batch 5:  Cost: 0.9987995624542236 Accuracy: 0.6141999363899231\n",
      "Epoch 20, CIFAR-10 Batch 1:  Cost: 1.038170576095581 Accuracy: 0.6389999389648438\n",
      "Epoch 20, CIFAR-10 Batch 2:  Cost: 1.00942063331604 Accuracy: 0.6197999119758606\n",
      "Epoch 20, CIFAR-10 Batch 3:  Cost: 0.8120298981666565 Accuracy: 0.598599910736084\n",
      "Epoch 20, CIFAR-10 Batch 4:  Cost: 0.8548139929771423 Accuracy: 0.6315999031066895\n",
      "Epoch 20, CIFAR-10 Batch 5:  Cost: 0.9624289274215698 Accuracy: 0.6101998686790466\n",
      "Epoch 21, CIFAR-10 Batch 1:  Cost: 1.0529465675354004 Accuracy: 0.6481998562812805\n",
      "Epoch 21, CIFAR-10 Batch 2:  Cost: 0.9772332906723022 Accuracy: 0.6125999093055725\n",
      "Epoch 21, CIFAR-10 Batch 3:  Cost: 0.7029160261154175 Accuracy: 0.6175999641418457\n",
      "Epoch 21, CIFAR-10 Batch 4:  Cost: 0.8806076645851135 Accuracy: 0.6109998822212219\n",
      "Epoch 21, CIFAR-10 Batch 5:  Cost: 0.9071289300918579 Accuracy: 0.6391999125480652\n",
      "Epoch 22, CIFAR-10 Batch 1:  Cost: 1.1201584339141846 Accuracy: 0.6601998805999756\n",
      "Epoch 22, CIFAR-10 Batch 2:  Cost: 0.8502634763717651 Accuracy: 0.6399998664855957\n",
      "Epoch 22, CIFAR-10 Batch 3:  Cost: 0.7459747195243835 Accuracy: 0.6057999134063721\n",
      "Epoch 22, CIFAR-10 Batch 4:  Cost: 0.8036172389984131 Accuracy: 0.6093999147415161\n",
      "Epoch 22, CIFAR-10 Batch 5:  Cost: 0.9090259075164795 Accuracy: 0.6207998991012573\n",
      "Epoch 23, CIFAR-10 Batch 1:  Cost: 1.0509940385818481 Accuracy: 0.6401998996734619\n",
      "Epoch 23, CIFAR-10 Batch 2:  Cost: 1.0015969276428223 Accuracy: 0.6261999011039734\n",
      "Epoch 23, CIFAR-10 Batch 3:  Cost: 0.8775141835212708 Accuracy: 0.5777999758720398\n",
      "Epoch 23, CIFAR-10 Batch 4:  Cost: 0.9961364269256592 Accuracy: 0.5981999635696411\n",
      "Epoch 23, CIFAR-10 Batch 5:  Cost: 0.878546953201294 Accuracy: 0.6311999559402466\n",
      "Epoch 24, CIFAR-10 Batch 1:  Cost: 1.026671051979065 Accuracy: 0.6545999050140381\n",
      "Epoch 24, CIFAR-10 Batch 2:  Cost: 0.8867998719215393 Accuracy: 0.6595999002456665\n",
      "Epoch 24, CIFAR-10 Batch 3:  Cost: 0.584839403629303 Accuracy: 0.6513999104499817\n",
      "Epoch 24, CIFAR-10 Batch 4:  Cost: 0.8434171676635742 Accuracy: 0.6233999133110046\n",
      "Epoch 24, CIFAR-10 Batch 5:  Cost: 0.8829841017723083 Accuracy: 0.6427999138832092\n",
      "Epoch 25, CIFAR-10 Batch 1:  Cost: 1.0092829465866089 Accuracy: 0.6617999076843262\n",
      "Epoch 25, CIFAR-10 Batch 2:  Cost: 0.8911148905754089 Accuracy: 0.6459999084472656\n",
      "Epoch 25, CIFAR-10 Batch 3:  Cost: 0.6679774522781372 Accuracy: 0.629599928855896\n",
      "Epoch 25, CIFAR-10 Batch 4:  Cost: 0.7295152544975281 Accuracy: 0.6501998901367188\n",
      "Epoch 25, CIFAR-10 Batch 5:  Cost: 0.9107521772384644 Accuracy: 0.632599949836731\n",
      "Epoch 26, CIFAR-10 Batch 1:  Cost: 1.0045497417449951 Accuracy: 0.6419999599456787\n",
      "Epoch 26, CIFAR-10 Batch 2:  Cost: 0.9686312675476074 Accuracy: 0.6257998943328857\n",
      "Epoch 26, CIFAR-10 Batch 3:  Cost: 0.7087777853012085 Accuracy: 0.627799928188324\n",
      "Epoch 26, CIFAR-10 Batch 4:  Cost: 0.892474889755249 Accuracy: 0.614599883556366\n",
      "Epoch 26, CIFAR-10 Batch 5:  Cost: 0.8608481884002686 Accuracy: 0.6485999226570129\n",
      "Epoch 27, CIFAR-10 Batch 1:  Cost: 1.0373561382293701 Accuracy: 0.643799901008606\n",
      "Epoch 27, CIFAR-10 Batch 2:  Cost: 0.7624832987785339 Accuracy: 0.6587998867034912\n",
      "Epoch 27, CIFAR-10 Batch 3:  Cost: 0.6829341650009155 Accuracy: 0.6279999017715454\n",
      "Epoch 27, CIFAR-10 Batch 4:  Cost: 0.8853710293769836 Accuracy: 0.6281999349594116\n",
      "Epoch 27, CIFAR-10 Batch 5:  Cost: 0.8324681520462036 Accuracy: 0.6389999389648438\n",
      "Epoch 28, CIFAR-10 Batch 1:  Cost: 1.06476891040802 Accuracy: 0.6513999104499817\n",
      "Epoch 28, CIFAR-10 Batch 2:  Cost: 0.9119998812675476 Accuracy: 0.658599853515625\n",
      "Epoch 28, CIFAR-10 Batch 3:  Cost: 0.6515064835548401 Accuracy: 0.6173999309539795\n",
      "Epoch 28, CIFAR-10 Batch 4:  Cost: 0.8534955978393555 Accuracy: 0.627799928188324\n",
      "Epoch 28, CIFAR-10 Batch 5:  Cost: 0.8894137144088745 Accuracy: 0.6329998970031738\n",
      "Epoch 29, CIFAR-10 Batch 1:  Cost: 0.9919755458831787 Accuracy: 0.6641998291015625\n",
      "Epoch 29, CIFAR-10 Batch 2:  Cost: 0.865090548992157 Accuracy: 0.6581998467445374\n",
      "Epoch 29, CIFAR-10 Batch 3:  Cost: 0.604523241519928 Accuracy: 0.6351999044418335\n",
      "Epoch 29, CIFAR-10 Batch 4:  Cost: 0.7830563187599182 Accuracy: 0.6559998989105225\n",
      "Epoch 29, CIFAR-10 Batch 5:  Cost: 0.7721014618873596 Accuracy: 0.6485998630523682\n",
      "Epoch 30, CIFAR-10 Batch 1:  Cost: 0.9775435328483582 Accuracy: 0.6669999361038208\n",
      "Epoch 30, CIFAR-10 Batch 2:  Cost: 0.8222465515136719 Accuracy: 0.6571998596191406\n",
      "Epoch 30, CIFAR-10 Batch 3:  Cost: 0.6243476867675781 Accuracy: 0.630599856376648\n",
      "Epoch 30, CIFAR-10 Batch 4:  Cost: 0.8181931972503662 Accuracy: 0.645599901676178\n",
      "Epoch 30, CIFAR-10 Batch 5:  Cost: 0.6865902543067932 Accuracy: 0.6569998264312744\n",
      "Epoch 31, CIFAR-10 Batch 1:  Cost: 1.101157546043396 Accuracy: 0.6555998921394348\n",
      "Epoch 31, CIFAR-10 Batch 2:  Cost: 0.826627254486084 Accuracy: 0.6611999273300171\n",
      "Epoch 31, CIFAR-10 Batch 3:  Cost: 0.7117547988891602 Accuracy: 0.6187999248504639\n",
      "Epoch 31, CIFAR-10 Batch 4:  Cost: 0.8918907642364502 Accuracy: 0.6089999079704285\n",
      "Epoch 31, CIFAR-10 Batch 5:  Cost: 0.6818225383758545 Accuracy: 0.6653998494148254\n",
      "Epoch 32, CIFAR-10 Batch 1:  Cost: 1.0045342445373535 Accuracy: 0.6597998738288879\n",
      "Epoch 32, CIFAR-10 Batch 2:  Cost: 0.8847858309745789 Accuracy: 0.6447998881340027\n",
      "Epoch 32, CIFAR-10 Batch 3:  Cost: 0.5976545810699463 Accuracy: 0.6203998923301697\n",
      "Epoch 32, CIFAR-10 Batch 4:  Cost: 0.7766926288604736 Accuracy: 0.6435999274253845\n",
      "Epoch 32, CIFAR-10 Batch 5:  Cost: 0.8115784525871277 Accuracy: 0.648399829864502\n",
      "Epoch 33, CIFAR-10 Batch 1:  Cost: 0.9974116086959839 Accuracy: 0.6531998515129089\n",
      "Epoch 33, CIFAR-10 Batch 2:  Cost: 0.8408792018890381 Accuracy: 0.6563999056816101\n",
      "Epoch 33, CIFAR-10 Batch 3:  Cost: 0.5975058078765869 Accuracy: 0.6515998840332031\n",
      "Epoch 33, CIFAR-10 Batch 4:  Cost: 0.8203025460243225 Accuracy: 0.626599907875061\n",
      "Epoch 33, CIFAR-10 Batch 5:  Cost: 0.7365089058876038 Accuracy: 0.6553998589515686\n",
      "Epoch 34, CIFAR-10 Batch 1:  Cost: 0.8732456564903259 Accuracy: 0.6675997972488403\n",
      "Epoch 34, CIFAR-10 Batch 2:  Cost: 0.7005384564399719 Accuracy: 0.6639998555183411\n",
      "Epoch 34, CIFAR-10 Batch 3:  Cost: 0.5565717220306396 Accuracy: 0.6307998895645142\n",
      "Epoch 34, CIFAR-10 Batch 4:  Cost: 0.9623752236366272 Accuracy: 0.5897998809814453\n",
      "Epoch 34, CIFAR-10 Batch 5:  Cost: 0.7496134638786316 Accuracy: 0.6387999057769775\n",
      "Epoch 35, CIFAR-10 Batch 1:  Cost: 0.8676872253417969 Accuracy: 0.6805999279022217\n",
      "Epoch 35, CIFAR-10 Batch 2:  Cost: 0.6649271249771118 Accuracy: 0.6801998615264893\n",
      "Epoch 35, CIFAR-10 Batch 3:  Cost: 0.5750867128372192 Accuracy: 0.6409999132156372\n",
      "Epoch 35, CIFAR-10 Batch 4:  Cost: 0.7060215473175049 Accuracy: 0.6413999199867249\n",
      "Epoch 35, CIFAR-10 Batch 5:  Cost: 0.6869980096817017 Accuracy: 0.6643998622894287\n"
     ]
    }
   ],
   "source": [
    "\"\"\"\n",
    "DON'T MODIFY ANYTHING IN THIS CELL\n",
    "\"\"\"\n",
    "save_model_path = './image_classification'\n",
    "\n",
    "print('Training...')\n",
    "with tf.Session() as sess:\n",
    "    # Initializing the variables\n",
    "    sess.run(tf.global_variables_initializer())\n",
    "    \n",
    "    # Training cycle\n",
    "    for epoch in range(epochs):\n",
    "        # Loop over all batches\n",
    "        n_batches = 5\n",
    "        for batch_i in range(1, n_batches + 1):\n",
    "            for batch_features, batch_labels in helper.load_preprocess_training_batch(batch_i, batch_size):\n",
    "                train_neural_network(sess, optimizer, keep_probability, batch_features, batch_labels)\n",
    "            print('Epoch {:>2}, CIFAR-10 Batch {}:  '.format(epoch + 1, batch_i), end='')\n",
    "            print_stats(sess, batch_features, batch_labels, cost, accuracy)\n",
    "            \n",
    "    # Save Model\n",
    "    saver = tf.train.Saver()\n",
    "    save_path = saver.save(sess, save_model_path)"
   ]
  },
  {
   "cell_type": "markdown",
   "metadata": {
    "deletable": true,
    "editable": true
   },
   "source": [
    "# Checkpoint\n",
    "The model has been saved to disk.\n",
    "## Test Model\n",
    "Test your model against the test dataset.  This will be your final accuracy. You should have an accuracy greater than 50%. If you don't, keep tweaking the model architecture and parameters."
   ]
  },
  {
   "cell_type": "code",
   "execution_count": 18,
   "metadata": {
    "collapsed": false,
    "deletable": true,
    "editable": true
   },
   "outputs": [
    {
     "name": "stdout",
     "output_type": "stream",
     "text": [
      "Testing Accuracy: 0.6530652866242038\n",
      "\n"
     ]
    },
    {
     "data": {
      "image/png": "[encoded data removed]",
      "text/plain": [
       "<matplotlib.figure.Figure at 0x7fdaf2634c50>"
      ]
     },
     "metadata": {
      "image/png": {
       "height": 319,
       "width": 355
      }
     },
     "output_type": "display_data"
    }
   ],
   "source": [
    "\"\"\"\n",
    "DON'T MODIFY ANYTHING IN THIS CELL\n",
    "\"\"\"\n",
    "%matplotlib inline\n",
    "%config InlineBackend.figure_format = 'retina'\n",
    "\n",
    "import tensorflow as tf\n",
    "import pickle\n",
    "import helper\n",
    "import random\n",
    "\n",
    "# Set batch size if not already set\n",
    "try:\n",
    "    if batch_size:\n",
    "        pass\n",
    "except NameError:\n",
    "    batch_size = 64\n",
    "\n",
    "save_model_path = './image_classification'\n",
    "n_samples = 4\n",
    "top_n_predictions = 3\n",
    "\n",
    "def test_model():\n",
    "    \"\"\"\n",
    "    Test the saved model against the test dataset\n",
    "    \"\"\"\n",
    "\n",
    "    test_features, test_labels = pickle.load(open('preprocess_training.p', mode='rb'))\n",
    "    loaded_graph = tf.Graph()\n",
    "\n",
    "    with tf.Session(graph=loaded_graph) as sess:\n",
    "        # Load model\n",
    "        loader = tf.train.import_meta_graph(save_model_path + '.meta')\n",
    "        loader.restore(sess, save_model_path)\n",
    "\n",
    "        # Get Tensors from loaded model\n",
    "        loaded_x = loaded_graph.get_tensor_by_name('x:0')\n",
    "        loaded_y = loaded_graph.get_tensor_by_name('y:0')\n",
    "        loaded_keep_prob = loaded_graph.get_tensor_by_name('keep_prob:0')\n",
    "        loaded_logits = loaded_graph.get_tensor_by_name('logits:0')\n",
    "        loaded_acc = loaded_graph.get_tensor_by_name('accuracy:0')\n",
    "        \n",
    "        # Get accuracy in batches for memory limitations\n",
    "        test_batch_acc_total = 0\n",
    "        test_batch_count = 0\n",
    "        \n",
    "        for train_feature_batch, train_label_batch in helper.batch_features_labels(test_features, test_labels, batch_size):\n",
    "            test_batch_acc_total += sess.run(\n",
    "                loaded_acc,\n",
    "                feed_dict={loaded_x: train_feature_batch, loaded_y: train_label_batch, loaded_keep_prob: 1.0})\n",
    "            test_batch_count += 1\n",
    "\n",
    "        print('Testing Accuracy: {}\\n'.format(test_batch_acc_total/test_batch_count))\n",
    "\n",
    "        # Print Random Samples\n",
    "        random_test_features, random_test_labels = tuple(zip(*random.sample(list(zip(test_features, test_labels)), n_samples)))\n",
    "        random_test_predictions = sess.run(\n",
    "            tf.nn.top_k(tf.nn.softmax(loaded_logits), top_n_predictions),\n",
    "            feed_dict={loaded_x: random_test_features, loaded_y: random_test_labels, loaded_keep_prob: 1.0})\n",
    "        helper.display_image_predictions(random_test_features, random_test_labels, random_test_predictions)\n",
    "\n",
    "\n",
    "test_model()"
   ]
  },
  {
   "cell_type": "markdown",
   "metadata": {
    "deletable": true,
    "editable": true
   },
   "source": [
    "## Why 50-70% Accuracy?\n",
    "You might be wondering why you can't get an accuracy any higher. First things first, 50% isn't bad for a simple CNN.  Pure guessing would get you 10% accuracy. However, you might notice people are getting scores [well above 70%](http://rodrigob.github.io/are_we_there_yet/build/classification_datasets_results.html#43494641522d3130).  That's because we haven't taught you all there is to know about neural networks. We still need to cover a few more techniques.\n",
    "## Submitting This Project\n",
    "When submitting this project, make sure to run all the cells before saving the notebook.  Save the notebook file as \"dlnd_image_classification.ipynb\" and save it as a HTML file under \"File\" -> \"Download as\".  Include the \"helper.py\" and \"problem_unittests.py\" files in your submission."
   ]
  }
 ],
 "metadata": {
  "kernelspec": {
   "display_name": "Python 3",
   "language": "python",
   "name": "python3"
  },
  "language_info": {
   "codemirror_mode": {
    "name": "ipython",
    "version": 3
   },
   "file_extension": ".py",
   "mimetype": "text/x-python",
   "name": "python",
   "nbconvert_exporter": "python",
   "pygments_lexer": "ipython3",
   "version": "3.5.3"
  }
 },
 "nbformat": 4,
 "nbformat_minor": 0
}
